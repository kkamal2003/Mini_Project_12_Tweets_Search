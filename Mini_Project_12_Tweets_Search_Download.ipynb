{
  "nbformat": 4,
  "nbformat_minor": 0,
  "metadata": {
    "colab": {
      "provenance": [],
      "authorship_tag": "ABX9TyOLjA5/89+TQ1ujKszayP/j",
      "include_colab_link": true
    },
    "kernelspec": {
      "name": "python3",
      "display_name": "Python 3"
    },
    "language_info": {
      "name": "python"
    }
  },
  "cells": [
    {
      "cell_type": "markdown",
      "metadata": {
        "id": "view-in-github",
        "colab_type": "text"
      },
      "source": [
        "<a href=\"https://colab.research.google.com/github/kkamal2003/Mini_Project_12_Tweets_Search/blob/main/Mini_Project_12_Tweets_Search_Download.ipynb\" target=\"_parent\"><img src=\"https://colab.research.google.com/assets/colab-badge.svg\" alt=\"Open In Colab\"/></a>"
      ]
    },
    {
      "cell_type": "code",
      "execution_count": null,
      "metadata": {
        "colab": {
          "base_uri": "https://localhost:8080/"
        },
        "id": "Hscn9NjFpGeW",
        "outputId": "a2ebf160-a211-4606-efa4-79a9d2f20f1b"
      },
      "outputs": [
        {
          "output_type": "stream",
          "name": "stdout",
          "text": [
            "Looking in indexes: https://pypi.org/simple, https://us-python.pkg.dev/colab-wheels/public/simple/\n",
            "Requirement already satisfied: tweepy in /usr/local/lib/python3.10/dist-packages (4.13.0)\n",
            "Requirement already satisfied: oauthlib<4,>=3.2.0 in /usr/local/lib/python3.10/dist-packages (from tweepy) (3.2.2)\n",
            "Requirement already satisfied: requests<3,>=2.27.0 in /usr/local/lib/python3.10/dist-packages (from tweepy) (2.27.1)\n",
            "Requirement already satisfied: requests-oauthlib<2,>=1.2.0 in /usr/local/lib/python3.10/dist-packages (from tweepy) (1.3.1)\n",
            "Requirement already satisfied: urllib3<1.27,>=1.21.1 in /usr/local/lib/python3.10/dist-packages (from requests<3,>=2.27.0->tweepy) (1.26.15)\n",
            "Requirement already satisfied: certifi>=2017.4.17 in /usr/local/lib/python3.10/dist-packages (from requests<3,>=2.27.0->tweepy) (2022.12.7)\n",
            "Requirement already satisfied: charset-normalizer~=2.0.0 in /usr/local/lib/python3.10/dist-packages (from requests<3,>=2.27.0->tweepy) (2.0.12)\n",
            "Requirement already satisfied: idna<4,>=2.5 in /usr/local/lib/python3.10/dist-packages (from requests<3,>=2.27.0->tweepy) (3.4)\n"
          ]
        }
      ],
      "source": [
        "!pip install tweepy"
      ]
    },
    {
      "cell_type": "code",
      "source": [
        "access_token = \"501682241-ZG1DshytyxUIUY8FXPoH2AXaDG9d5DQlORemfAzU\"\n",
        "access_token_secret = \"mxwCYkDjgWG5qWy8ONtVs3j2lxiYSxyberVVa92jmd27z\"\n",
        "consumer_key = \"we0Drpnvc1FZNazKkiKoFWlGf\"\n",
        "consumer_secret = \"OXRvmJwM6ca9k90XMIMoktSCa5XvjNieqJivcfjbOAlmpO6RhH\"\n",
        "     "
      ],
      "metadata": {
        "id": "8bgMNJ5FpK8W"
      },
      "execution_count": null,
      "outputs": []
    },
    {
      "cell_type": "code",
      "source": [
        "import os\n",
        "import tweepy as tw\n",
        "import pandas as pd\n",
        "from datetime import datetime, timedelta\n"
      ],
      "metadata": {
        "id": "iJYPvAxWpOwc"
      },
      "execution_count": null,
      "outputs": []
    },
    {
      "cell_type": "code",
      "source": [
        "auth = tw.OAuthHandler(consumer_key, consumer_secret)\n",
        "auth.set_access_token(access_token, access_token_secret)\n",
        "api = tw.API(auth, wait_on_rate_limit=True)"
      ],
      "metadata": {
        "id": "5kAqZH0opRc5"
      },
      "execution_count": null,
      "outputs": []
    },
    {
      "cell_type": "code",
      "source": [
        "# Define the search term and the date_since date as variables\n",
        "search_words = \"#metgala\"\n",
        "date_since = datetime.strptime(\"2022-06-01\", \"%Y-%m-%d\")"
      ],
      "metadata": {
        "id": "Ab8A5gsApUXK"
      },
      "execution_count": null,
      "outputs": []
    },
    {
      "cell_type": "code",
      "source": [
        "# Collect tweets\n",
        "tweets = tw.Cursor(api.search_tweets, q=search_words, lang=\"en\").items(10)\n",
        "fp = open(\"result.txt\",'w');\n",
        "# Iterate and print tweets\n",
        "for tweet in tweets:\n",
        "    print(tweet.text)\n",
        "    fp.write(tweet.text+'\\n');\n",
        "fp.close();"
      ],
      "metadata": {
        "colab": {
          "base_uri": "https://localhost:8080/"
        },
        "id": "8BKvu-cYpXH4",
        "outputId": "4583cf5e-ae3c-421b-a931-2b0074eaa950"
      },
      "execution_count": null,
      "outputs": [
        {
          "output_type": "stream",
          "name": "stdout",
          "text": [
            "🚀🚀🚀 #rihanna #concert #singer #song #hollywood #metgala #oscarperformancein1week #metgala   \n",
            "Source:… https://t.co/KYV0yPB6dc\n",
            "RT @bestsukiw: \"Suki Waterhouse reminisces on this year’s #MetGala and talks about forging connections backstage at @govballnyc 🗽\"\n",
            "\n",
            "Rolling…\n",
            "🤗🤗 #xbox #GTA #XboxWakandaForeverSweepstakes #MetGala #XboxShare  \n",
            "Original: SixBulletCowboy https://t.co/62s7vA4wPj\n",
            "🤩🤩🤩🤩 #concert #singer #rihanna #musician #idoKARL #Oscars? #metgala  \n",
            "Source: https://t.co/3AKM7bw16w https://t.co/9RL83W77aO\n",
            "RT @PopBase: BLACKPINK’s Jennie and The Glory’s Song Hye-kyo at the #MetGala. https://t.co/eQYU5HRY5L\n",
            "RT @bellahadid: THE BACK OF BAD BUNNY OUTFIT!!! HE ATE!!! #MetGala https://t.co/91ji7ekZXF\n",
            "RT @diorangxl: Rihanna and A$AP Rocky at the #MetGala https://t.co/r4ft2TRHHB\n",
            "RT @diorangxl: Rihanna and A$AP Rocky at the #MetGala https://t.co/cb3SSEhCmd\n",
            "RT @diorangxl: This photo! Rihanna and A$AP Rocky at the #MetGala https://t.co/fsEEzNZYZz\n",
            "RT @PopBase: BTS' Jimin is expected to make his #MetGala debut tonight. https://t.co/VeKO3Cuw6s\n"
          ]
        }
      ]
    }
  ]
}